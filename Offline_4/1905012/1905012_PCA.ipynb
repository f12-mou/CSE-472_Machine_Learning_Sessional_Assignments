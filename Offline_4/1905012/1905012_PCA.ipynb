{
 "cells": [
  {
   "cell_type": "code",
   "execution_count": null,
   "metadata": {},
   "outputs": [],
   "source": [
    "import pandas as pd\n",
    "from sklearn.preprocessing import StandardScaler\n",
    "import matplotlib.pyplot as plt\n",
    "from mpl_toolkits.mplot3d import Axes3D\n",
    "import matplotlib.pyplot as plt\n",
    "import seaborn as sns\n",
    "import umap\n",
    "from sklearn.manifold import TSNE\n"
   ]
  },
  {
   "cell_type": "code",
   "execution_count": 2,
   "metadata": {},
   "outputs": [],
   "source": [
    "import numpy as np\n",
    "class CustomPCA:\n",
    "\tdef __init__(self, num_components):\n",
    "\t\tself.num_components = num_components\t\t# The number of reduced components\n",
    "\t\tself.explained_variance_ratio_ = None\n",
    "\n",
    "\tdef get_explained_variance_ratio(self):\n",
    "\t\treturn self.explained_variance_ratio_\n",
    "\t\n",
    "\tdef get_eigenvectors(self, dataframe, plot_covariance=0):\n",
    "\t\t# dataframe: rows represent samples, columns represent features\n",
    "\t\t# np.cov expects features along the rows, hence the argument passed here should be transposed\n",
    "\t\tcov_matrix = np.cov(dataframe.T)\n",
    "\t\tif plot_covariance == 1:\n",
    "\t\t\tplt.figure(figsize=(12,10))\n",
    "\t\t\tsns.heatmap(cov_matrix, cmap='coolwarm', cbar=True)\n",
    "\t\t\tplt.title('Covariance Matrix Heatmap')\n",
    "\t\t\tplt.xlabel('Features')\n",
    "\t\t\tplt.ylabel('Features')\n",
    "\t\t\tplt.show()\n",
    "\t\t\n",
    "\t\t# Cov(i,j) > 0\t: if i increases, j increases\n",
    "\t\t# Cov(i,j) < 0\t: if i decreases, j increases\n",
    "\t\t# Cov(i,j) = 0\t: No relationship \n",
    "\n",
    "\t\teigenvalues, eigenvectors = np.linalg.eigh(cov_matrix) # here H means Hermitian matrix, a symmetric matrix(matrix and transpose same) like Covariance Matrix\n",
    "\t\tsorted_indices = np.argsort(eigenvalues)[::-1]\n",
    "\t\teigenvectors = eigenvectors[:, sorted_indices[:self.num_components]]\n",
    "\n",
    "\t\ttotal_sum = np.sum(eigenvalues)\n",
    "\t\teigenvalues = eigenvalues[sorted_indices[:self.num_components]]\n",
    "\n",
    "\t\tself.explained_variance_ratio_ = np.sum(eigenvalues) / total_sum\n",
    "\n",
    "\n",
    "\t\treturn eigenvectors\n",
    "\n",
    "\tdef get_coordinates(self, eigenvectors, dataframe):\n",
    "\t\treduced_data = np.dot(dataframe, eigenvectors)\n",
    "\t\treturn pd.DataFrame(reduced_data)\n",
    "\t\n",
    "\tdef plot_data_loss(self, eigenvector, reduced_dataframe, original_dataframe, col):\n",
    "\t\trestored_data = np.dot(reduced_dataframe, eigenvector.T)\n",
    "\t\tplt.figure(figsize=(10, 6))\n",
    "\t\tplt.plot(original_dataframe[col], label=\"Original Data\", color=\"blue\", alpha=0.7)\n",
    "\t\tplt.plot(restored_data[:, col], label=\"Restored Data\", color=\"red\", linestyle='--')\n",
    "\t\tplt.xlabel(\"Sample index\")\n",
    "\t\tplt.ylabel(f\"Value of Column {col}\")\n",
    "\t\tplt.legend()\n",
    "\t\tplt.title(f\"Data Loss Visualization for Column {col}\")\n",
    "\t\tplt.show()\n",
    "\t\tplt.savefig(f\"Loss_PCA_col_{col}.png\")\n",
    "\n"
   ]
  },
  {
   "cell_type": "code",
   "execution_count": 3,
   "metadata": {},
   "outputs": [],
   "source": [
    "def plot_reduced_data(reduced_dataframe, config=2, title=\"Default_Title\"):\n",
    "    if config == 1:\n",
    "        plt.figure(figsize=(8, 6))\n",
    "        plt.scatter(reduced_dataframe[0], np.zeros(len(reduced_dataframe[0])), alpha=0.6)\n",
    "        plt.xlabel(\"Component 1\")\n",
    "        plt.ylabel(\"Y Axis\")\n",
    "        plt.title(title)\n",
    "        plt.savefig(f\"{title}.png\")\n",
    "        plt.show()\n",
    "\n",
    "    elif config == 2:\n",
    "        plt.figure(figsize=(8, 6))\n",
    "        plt.scatter(reduced_dataframe[0], reduced_dataframe[1], alpha=0.6)\n",
    "        plt.xlabel(\"Component 1\")\n",
    "        plt.ylabel(\"Component 2\")\n",
    "        plt.title(title)\n",
    "        plt.savefig(f\"{title}.png\")\n",
    "        plt.show()\n",
    "\n",
    "    elif config == 3:\n",
    "        fig = plt.figure(figsize=(8, 6))\n",
    "        ax = fig.add_subplot(111, projection='3d')\n",
    "        ax.scatter(reduced_dataframe[0], reduced_dataframe[1], reduced_dataframe[2], alpha=0.6)\n",
    "        ax.set_xlabel(\"Component 1\")\n",
    "        ax.set_ylabel(\"Component 2\")\n",
    "        ax.set_zlabel(\"Component 3\")\n",
    "        ax.set_title(title)\n",
    "        plt.savefig(f\"{title}.png\")\n",
    "        plt.show()\n",
    "\n",
    "    else:\n",
    "        raise ValueError(\"Config should be 1, 2, or 3 for 1D, 2D, or 3D plot respectively.\")"
   ]
  },
  {
   "cell_type": "code",
   "execution_count": 4,
   "metadata": {},
   "outputs": [],
   "source": [
    "data = pd.read_csv(\"pca_data.txt\", sep=\" \", header=None)\n",
    "# Standardization\n",
    "scaler = StandardScaler()\n",
    "data_scaled = scaler.fit_transform(data)"
   ]
  },
  {
   "cell_type": "code",
   "execution_count": null,
   "metadata": {},
   "outputs": [],
   "source": [
    "pca = CustomPCA(num_components=2)\n",
    "eigenvectors = pca.get_eigenvectors(dataframe=data_scaled)\n",
    "# Getting the reduced coordinates\n",
    "reduced_data = pca.get_coordinates(eigenvectors, data_scaled)\n",
    "plot_reduced_data(reduced_data, config=2, title=\"PCA_2D\")"
   ]
  },
  {
   "cell_type": "code",
   "execution_count": null,
   "metadata": {},
   "outputs": [],
   "source": [
    "ratio = pca.get_explained_variance_ratio()\n",
    "print(\"Explained Variance Ratio: \",ratio)"
   ]
  },
  {
   "cell_type": "code",
   "execution_count": 7,
   "metadata": {},
   "outputs": [],
   "source": [
    "umap_model = umap.UMAP(n_components=2)\n",
    "umap_data = umap_model.fit_transform(data_scaled)"
   ]
  },
  {
   "cell_type": "code",
   "execution_count": null,
   "metadata": {},
   "outputs": [],
   "source": [
    "print(umap_data)"
   ]
  },
  {
   "cell_type": "markdown",
   "metadata": {},
   "source": []
  },
  {
   "cell_type": "code",
   "execution_count": null,
   "metadata": {},
   "outputs": [],
   "source": [
    "umap_df = pd.DataFrame(umap_data)\n",
    "plot_reduced_data(umap_df, config=2, title = \"UMAP_2D\")"
   ]
  },
  {
   "cell_type": "code",
   "execution_count": 10,
   "metadata": {},
   "outputs": [],
   "source": [
    "# t-SNE Reduction (2 components)\n",
    "tsne_model = TSNE(n_components=2)\n",
    "tsne_data = tsne_model.fit_transform(data_scaled)"
   ]
  },
  {
   "cell_type": "code",
   "execution_count": null,
   "metadata": {},
   "outputs": [],
   "source": [
    "tsne_df = pd.DataFrame(tsne_data)\n",
    "plot_reduced_data(tsne_df, config=2, title = \"TSNE_2D\")"
   ]
  },
  {
   "cell_type": "code",
   "execution_count": null,
   "metadata": {},
   "outputs": [],
   "source": [
    "pca = CustomPCA(num_components=3)\n",
    "eigenvectors = pca.get_eigenvectors(dataframe=data_scaled)\n",
    "# Getting the reduced coordinates\n",
    "reduced_data = pca.get_coordinates(eigenvectors, data_scaled)\n",
    "plot_reduced_data(reduced_data, config=3, title=\"PCA_3D\")\n",
    "ratio = pca.get_explained_variance_ratio()\n",
    "print(\"Explained Variance Ratio: \",ratio)\n",
    "umap_model = umap.UMAP(n_components=3)\n",
    "umap_data = umap_model.fit_transform(data_scaled)\n",
    "umap_df = pd.DataFrame(umap_data)\n",
    "plot_reduced_data(umap_df, config=3, title = \"UMAP_3D\")\n",
    "# t-SNE Reduction (3 components)\n",
    "tsne_model = TSNE(n_components=3)\n",
    "tsne_data = tsne_model.fit_transform(data_scaled)\n",
    "tsne_df = pd.DataFrame(tsne_data)\n",
    "plot_reduced_data(tsne_df, config=3, title = \"TSNE_3D\")\n",
    "\n"
   ]
  },
  {
   "cell_type": "code",
   "execution_count": null,
   "metadata": {},
   "outputs": [],
   "source": [
    "pca = CustomPCA(num_components=1)\n",
    "eigenvectors = pca.get_eigenvectors(dataframe=data_scaled)\n",
    "# Getting the reduced coordinates\n",
    "reduced_data = pca.get_coordinates(eigenvectors, data_scaled)\n",
    "plot_reduced_data(reduced_data, config=1, title=\"PCA_1D\")\n",
    "ratio = pca.get_explained_variance_ratio()\n",
    "print(\"Explained Variance Ratio: \",ratio)\n",
    "umap_model = umap.UMAP(n_components=1)\n",
    "umap_data = umap_model.fit_transform(data_scaled)\n",
    "umap_df = pd.DataFrame(umap_data)\n",
    "plot_reduced_data(umap_df, config=1, title = \"UMAP_1D\")\n",
    "# t-SNE Reduction (1 components)\n",
    "tsne_model = TSNE(n_components=1)\n",
    "tsne_data = tsne_model.fit_transform(data_scaled)\n",
    "tsne_df = pd.DataFrame(tsne_data)\n",
    "plot_reduced_data(tsne_df, config=1, title = \"TSNE_1D\")"
   ]
  }
 ],
 "metadata": {
  "kernelspec": {
   "display_name": "Python 3",
   "language": "python",
   "name": "python3"
  },
  "language_info": {
   "codemirror_mode": {
    "name": "ipython",
    "version": 3
   },
   "file_extension": ".py",
   "mimetype": "text/x-python",
   "name": "python",
   "nbconvert_exporter": "python",
   "pygments_lexer": "ipython3",
   "version": "3.10.0"
  }
 },
 "nbformat": 4,
 "nbformat_minor": 2
}
