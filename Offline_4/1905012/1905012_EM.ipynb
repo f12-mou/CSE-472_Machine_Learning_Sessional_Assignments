{
 "cells": [
  {
   "cell_type": "code",
   "execution_count": 16,
   "metadata": {},
   "outputs": [],
   "source": [
    "import numpy as np\n",
    "import pandas as pd\n",
    "from scipy.stats import poisson\n",
    "import seaborn as sns\n",
    "import matplotlib.pyplot as plt\n"
   ]
  },
  {
   "cell_type": "code",
   "execution_count": 17,
   "metadata": {},
   "outputs": [],
   "source": [
    "data = pd.read_csv(\"em_data.txt\", header=None)\n",
    "children_count = data[0].values "
   ]
  },
  {
   "cell_type": "code",
   "execution_count": null,
   "metadata": {},
   "outputs": [],
   "source": [
    "unique_values, frequencies = np.unique(children_count, return_counts=True)\n",
    "# Plot frequency plot\n",
    "plt.figure(figsize=(10, 6))\n",
    "plt.bar(unique_values, frequencies, color='skyblue', edgecolor='black')\n",
    "plt.xlabel('Number of Children', fontsize=14)\n",
    "plt.ylabel('Frequency', fontsize=14)\n",
    "plt.title('Frequency Plot of Children Count', fontsize=16)\n",
    "plt.xticks(unique_values, fontsize=12)\n",
    "plt.yticks(fontsize=12)\n",
    "plt.grid(axis='y', linestyle='--', alpha=0.7)\n",
    "plt.savefig(\"Unique_Counts.png\")\n",
    "plt.show()"
   ]
  },
  {
   "cell_type": "code",
   "execution_count": 19,
   "metadata": {},
   "outputs": [],
   "source": [
    "def em_algorithm(data, max_iter=100, tol=1e-6):\n",
    "\t# Initialization of the parameters for the algo\n",
    "\tn = len(data)\n",
    "\tprint(\"Mean of the data: \", np.mean(data))\n",
    "\tlambda_1 = np.mean(data) * 0.8  # Initial mean for families with family planning\n",
    "\tlambda_2 = np.mean(data) * 1.2 # Initial mean for families without family planning\n",
    "\tpi_1 = 0.5  # Initial proportion of families with family planning\n",
    "\tpi_2 = 0.5  # Initial proportion of families without family planning\n",
    "\n",
    "\tprev_log_likelihood = -np.inf\n",
    "\n",
    "\tfor iteration in range(max_iter):\n",
    "\t\t# E-step: Calculate Posterior Probabilities\n",
    "\t\tresponsibility_1 = pi_1 * poisson.pmf(data, lambda_1)\n",
    "\t\tresponsibility_2 = pi_2 * poisson.pmf(data, lambda_2)\n",
    "\n",
    "\t\ttotal_responsibility = responsibility_1 + responsibility_2\n",
    "\n",
    "\t\tresponsibility_1 /= total_responsibility\n",
    "\t\tresponsibility_2 /= total_responsibility\n",
    "\n",
    "\t\t# M-step: Update parameters\n",
    "\t\t# Update lambda_1 and lambda_2 (mean number of children for each group)\n",
    "\t\tlambda_1 = np.sum(responsibility_1 * data) / np.sum(responsibility_1)\n",
    "\t\tlambda_2 = np.sum(responsibility_2 * data) / np.sum(responsibility_2)\n",
    "\n",
    "\t\t# Update pi_1 and pi_2 \n",
    "\t\tpi_1 = np.mean(responsibility_1)\n",
    "\t\tpi_2 = 1- pi_1\n",
    "\n",
    "\t\tlog_likelihood = np.sum(np.log(total_responsibility))\n",
    "\n",
    "\t\tif np.abs(log_likelihood - prev_log_likelihood) < tol:\n",
    "\t\t\tprint(f\"Converged after {iteration+1} iterations.\")\n",
    "\t\t\tprint(f\"Iteration {iteration+1}: lambda_1={lambda_1}, lambda_2={lambda_2}, pi_1={pi_1}, pi_2={pi_2}, log-likelihood={log_likelihood}\")\n",
    "\t\t\tbreak\n",
    "\t\tprev_log_likelihood = log_likelihood\n",
    "\t\tprint(f\"Iteration {iteration+1}: lambda_1={lambda_1}, lambda_2={lambda_2}, pi_1={pi_1}, pi_2={pi_2}, log-likelihood={log_likelihood}\")\n",
    "\n",
    "\treturn lambda_1, lambda_2, pi_1, pi_2\n",
    "\n",
    "\n",
    "\t\t"
   ]
  },
  {
   "cell_type": "code",
   "execution_count": null,
   "metadata": {},
   "outputs": [],
   "source": [
    "lambda_1, lambda_2, pi_1, pi_2 = em_algorithm(children_count, max_iter = 200)\n",
    "\n",
    "print(f\"Estimated lambda_1 (mean children with family planning): {lambda_1}\")\n",
    "print(f\"Estimated lambda_2 (mean children without family planning): {lambda_2}\")\n",
    "print(f\"Estimated pi_1 (proportion with family planning): {pi_1}\")\n",
    "print(f\"Estimated pi_2 (proportion without family planning): {pi_2}\")"
   ]
  },
  {
   "cell_type": "code",
   "execution_count": 21,
   "metadata": {},
   "outputs": [],
   "source": [
    "def plot_poisson_densities(data, lambda_1, lambda_2,pi_1, pi_2):\n",
    "    import seaborn as sns\n",
    "    import matplotlib.pyplot as plt\n",
    "    x = np.arange(0, max(data) + 1)\n",
    "    poisson_lambda_1 = pi_1 * poisson.pmf(x, lambda_1)\n",
    "    poisson_lambda_2 = pi_2 * poisson.pmf(x, lambda_2)\n",
    "    poisson_mixture = poisson_lambda_1 + poisson_lambda_2\n",
    "\n",
    "   \n",
    "    print(poisson_mixture)\n",
    "    sns.histplot(data, bins=25, kde=False, stat=\"density\", color=\"blue\", edgecolor=\"black\", label=\"Data Histogram\")\n",
    "    plt.plot(x, poisson_mixture, label=\"Poisson Mixture Model\", color=\"green\", linewidth=2, linestyle=\"--\")\n",
    "\n",
    "    plt.xlabel(\"Number of Children\")\n",
    "    plt.ylabel(\"Density Value\")\n",
    "    plt.title(\"Density Plot and Fitted Poisson Mixture Model\")\n",
    "    plt.legend()\n",
    "    plt.grid(True)\n",
    "    plt.show()\n"
   ]
  },
  {
   "cell_type": "code",
   "execution_count": null,
   "metadata": {},
   "outputs": [],
   "source": [
    "plot_poisson_densities(children_count, lambda_1, lambda_2,pi_1, pi_2)\n"
   ]
  }
 ],
 "metadata": {
  "kernelspec": {
   "display_name": "Python 3",
   "language": "python",
   "name": "python3"
  },
  "language_info": {
   "codemirror_mode": {
    "name": "ipython",
    "version": 3
   },
   "file_extension": ".py",
   "mimetype": "text/x-python",
   "name": "python",
   "nbconvert_exporter": "python",
   "pygments_lexer": "ipython3",
   "version": "3.10.0"
  }
 },
 "nbformat": 4,
 "nbformat_minor": 2
}
